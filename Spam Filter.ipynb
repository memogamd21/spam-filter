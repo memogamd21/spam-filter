{
 "cells": [
  {
   "cell_type": "code",
   "execution_count": 3,
   "metadata": {},
   "outputs": [],
   "source": [
    "import pandas as pd\n",
    "import numpy as np\n",
    "from matplotlib import pyplot as plt\n",
    "import math\n",
    "from sklearn.model_selection import train_test_split\n",
    "from sklearn.ensemble import RandomForestClassifier\n",
    "from sklearn.feature_extraction.text import CountVectorizer\n",
    "from sklearn.naive_bayes import MultinomialNB\n",
    "from sklearn.feature_extraction.text import TfidfVectorizer"
   ]
  },
  {
   "cell_type": "code",
   "execution_count": 4,
   "metadata": {},
   "outputs": [],
   "source": [
    "train = pd.read_csv(\"C:\\\\Users\\\\pc\\\\Desktop\\\\Fall 2018\\\\Machine Learning\\\\SMSSpamCollection.csv\",sep = \"\\t\", names= ['Status','Message']);\n",
    "train.head()\n",
    "len(train)\n",
    "train.loc[train[\"Status\"] == 'ham',\"Status\"] = 1 ## 1 for ham and 0 for spam\n",
    "train.loc[train[\"Status\"] == 'spam',\"Status\"] = 0\n",
    "train.head()\n",
    "X = train[\"Message\"]\n",
    "Y = train[\"Status\"]"
   ]
  },
  {
   "cell_type": "code",
   "execution_count": 5,
   "metadata": {},
   "outputs": [
    {
     "data": {
      "text/plain": [
       "(array([0]), array([1]))"
      ]
     },
     "execution_count": 5,
     "metadata": {},
     "output_type": "execute_result"
    }
   ],
   "source": [
    "cv = TfidfVectorizer(min_df = 1, stop_words = 'english')\n",
    "x_train,x_test,y_train,y_test = train_test_split(X,Y,test_size = 0.2, random_state=4)\n",
    "x_traincv = cv.fit_transform(x_train)\n",
    "a = x_traincv.toarray()\n",
    "x_train.iloc[0]\n",
    "mnb = MultinomialNB()\n",
    "y_train = y_train.astype('int')\n",
    "mnb.fit(x_traincv,y_train)\n",
    "newmessage = [\"['URGENT!]Your Mobbile No398174814449 was awarded a vacation\"]\n",
    "message_cv = cv.transform(newmessage)\n",
    "message2 = [\"Hello my friend, how are you?\"]\n",
    "message2_cv = cv.transform(message2)\n",
    "pred2 = mnb.predict(message2_cv)\n",
    "pred2 = pred2.astype('int')\n",
    "pred = mnb.predict(message_cv)\n",
    "pred = pred.astype('int')\n",
    "pred,pred2"
   ]
  },
  {
   "cell_type": "code",
   "execution_count": 6,
   "metadata": {},
   "outputs": [
    {
     "name": "stdout",
     "output_type": "stream",
     "text": [
      "Accuracy is 95.7847533632287 %\n"
     ]
    }
   ],
   "source": [
    "x_testcv = cv.transform(x_test)\n",
    "pred = mnb.predict(x_testcv)\n",
    "pred\n",
    "actual = np.array(y_test)\n",
    "actual\n",
    "count = 0;\n",
    "for i in range (len(pred)):\n",
    "    if pred[i] == actual[i]:\n",
    "        count = count+1;\n",
    "count\n",
    "len(pred)\n",
    "print(\"Accuracy is \" + str(100*count/len(pred)) + \" %\")"
   ]
  },
  {
   "cell_type": "code",
   "execution_count": 23,
   "metadata": {},
   "outputs": [
    {
     "data": {
      "text/plain": [
       "29"
      ]
     },
     "execution_count": 23,
     "metadata": {},
     "output_type": "execute_result"
    },
    {
     "data": {
      "image/png": "[encoded data removed]",
      "text/plain": [
       "<Figure size 432x288 with 1 Axes>"
      ]
     },
     "metadata": {},
     "output_type": "display_data"
    }
   ],
   "source": [
    "def sigmoid(w,x):\n",
    "    return (1/(1+np.exp(-w*x)))\n",
    "x = []\n",
    "count = -30\n",
    "while count != 30:\n",
    "    x.append(count);\n",
    "    count += 1;\n",
    "x = np.asarray(x)\n",
    "plt.plot(x,sigmoid(1,x))\n",
    "u = sigmoid(1,x) > 0.5\n",
    "sum(u)"
   ]
  },
  {
   "cell_type": "code",
   "execution_count": 24,
   "metadata": {},
   "outputs": [
    {
     "data": {
      "text/plain": [
       "29"
      ]
     },
     "execution_count": 24,
     "metadata": {},
     "output_type": "execute_result"
    },
    {
     "data": {
      "image/png": "[encoded data removed]",
      "text/plain": [
       "<Figure size 432x288 with 1 Axes>"
      ]
     },
     "metadata": {},
     "output_type": "display_data"
    }
   ],
   "source": [
    "plt.plot(x,sigmoid(7,x))\n",
    "u = sigmoid(7,x) > 0.5\n",
    "sum(u)"
   ]
  },
  {
   "cell_type": "code",
   "execution_count": 25,
   "metadata": {},
   "outputs": [
    {
     "data": {
      "text/plain": [
       "29"
      ]
     },
     "execution_count": 25,
     "metadata": {},
     "output_type": "execute_result"
    },
    {
     "data": {
      "image/png": "[encoded data removed]",
      "text/plain": [
       "<Figure size 432x288 with 1 Axes>"
      ]
     },
     "metadata": {},
     "output_type": "display_data"
    }
   ],
   "source": [
    "plt.plot(x,sigmoid(150,x))\n",
    "u = sigmoid(150,x) > 0.5\n",
    "sum(u)"
   ]
  },
  {
   "cell_type": "code",
   "execution_count": null,
   "metadata": {},
   "outputs": [],
   "source": [
    "    "
   ]
  }
 ],
 "metadata": {
  "kernelspec": {
   "display_name": "Python 3",
   "language": "python",
   "name": "python3"
  },
  "language_info": {
   "codemirror_mode": {
    "name": "ipython",
    "version": 3
   },
   "file_extension": ".py",
   "mimetype": "text/x-python",
   "name": "python",
   "nbconvert_exporter": "python",
   "pygments_lexer": "ipython3",
   "version": "3.6.5"
  }
 },
 "nbformat": 4,
 "nbformat_minor": 2
}
